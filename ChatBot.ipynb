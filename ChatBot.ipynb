{
 "cells": [
  {
   "cell_type": "code",
   "execution_count": 1,
   "id": "f5a4431c-7a31-46f9-b468-606cfec905a8",
   "metadata": {},
   "outputs": [],
   "source": [
    "import pickle\n",
    "import numpy as np\n",
    "import pandas as pd"
   ]
  },
  {
   "cell_type": "code",
   "execution_count": 2,
   "id": "e420d976-13d7-4f1a-8f56-901fe2e98129",
   "metadata": {},
   "outputs": [],
   "source": [
    "# Manually defined feature columns based on the training process\n",
    "trained_model_feature_columns = [\n",
    "    'prev_csection', 'total_births_main',\n",
    "    'race_cat_White', 'race_cat_Black or African American', 'race_cat_More than one race',\n",
    "    'race_cat_Asian', 'race_cat_Native Hawaiian or Other Pacific Islander', 'bmi_cat_Normal 18.5-24.9',\n",
    "    'bmi_cat_Underweight <18.5', 'bmi_cat_Obesity II 35.0-39.9', 'bmi_cat_Not Reported',\n",
    "    'bmi_cat_Overweight 25.0-29.9', 'age_cat_45-49 years', 'age_cat_40-44 years',\n",
    "    'age_cat_25-29 years', 'age_cat_35-39 years', 'age_cat_30-34 years', 'age_cat_20-24 years',\n",
    "    'bmi_cat_Obesity I 30.0-34.9', 'bmi_cat_Unknown or Not Stated', 'age_cat_50 years and over',\n",
    "    'age_cat_Under 15 years', 'state_main_Wisconsin', 'state_main_Louisiana', 'state_main_Colorado',\n",
    "    'state_main_Utah', 'state_main_Kentucky', 'state_main_South Carolina', 'state_main_Nebraska',\n",
    "    'state_main_Mississippi', 'state_main_Arkansas', 'state_main_Tennessee', 'state_main_Massachusetts',\n",
    "    'state_main_Kansas', 'state_main_Arizona', 'state_main_Virginia', 'state_main_Minnesota',\n",
    "    'state_main_Iowa', 'state_main_Nevada', 'state_main_Idaho', 'state_main_Connecticut',\n",
    "    'state_main_Maryland', 'state_main_Washington', 'state_main_Oregon', 'state_main_Hawaii',\n",
    "    'state_main_North Carolina', 'state_main_New Mexico', 'state_main_Indiana', 'state_main_Maine',\n",
    "    'state_main_Ohio', 'state_main_Montana', 'state_main_Oklahoma', 'state_main_Delaware',\n",
    "    'state_main_Michigan', 'state_main_New Jersey', 'state_main_New Hampshire', 'state_main_South Dakota',\n",
    "    'state_main_Pennsylvania', 'state_main_West Virginia', 'state_main_Rhode Island',\n",
    "    'state_main_Missouri', 'state_main_Georgia', 'state_main_Illinois', 'state_main_Vermont',\n",
    "    'state_main_North Dakota', 'state_main_New York', 'state_main_Alaska', 'state_main_Florida',\n",
    "    'state_main_District of Columbia', 'state_main_Texas', 'state_main_Wyoming', 'state_main_California'\n",
    "]\n"
   ]
  },
  {
   "cell_type": "code",
   "execution_count": 6,
   "id": "e99240be-907d-4a29-bf84-4b3f3fde41a3",
   "metadata": {},
   "outputs": [],
   "source": [
    "# Load the trained models\n",
    "with open('random_forest_model.pkl', 'rb') as f:\n",
    "    rf_model = pickle.load(f)"
   ]
  },
  {
   "cell_type": "code",
   "execution_count": 4,
   "id": "d2debb26-d6ec-4a79-9c53-03ae7a8a4861",
   "metadata": {},
   "outputs": [],
   "source": [
    "def preprocess_input(state, age_cat, bmi_cat, race_cat, prev_csection, total_births_main):\n",
    "    # Create a DataFrame for the input\n",
    "    input_df = pd.DataFrame({\n",
    "        'prev_csection': [prev_csection],\n",
    "        'total_births_main': [total_births_main],\n",
    "        'state_main': [state],\n",
    "        'age_cat': [age_cat],\n",
    "        'bmi_cat': [bmi_cat],\n",
    "        'race_cat': [race_cat]\n",
    "    })\n",
    "    \n",
    "    # One-hot encode the input DataFrame\n",
    "    input_df_encoded = pd.get_dummies(input_df, columns=['state_main', 'age_cat', 'bmi_cat', 'race_cat'])\n",
    "    \n",
    "    # Align the input DataFrame with the training feature columns, filling missing columns with 0\n",
    "    input_df_encoded = input_df_encoded.reindex(columns=trained_model_feature_columns, fill_value=0)\n",
    "    \n",
    "    return input_df_encoded"
   ]
  },
  {
   "cell_type": "code",
   "execution_count": 5,
   "id": "9dd08a5b-95e7-4c07-990c-3bcdad0ed2c4",
   "metadata": {},
   "outputs": [
    {
     "name": "stdout",
     "output_type": "stream",
     "text": [
      "Welcome to the Pregnancy Complication Risk Prediction Chatbot!\n",
      "Please answer the following questions:\n"
     ]
    },
    {
     "name": "stdin",
     "output_type": "stream",
     "text": [
      "Please enter the state you reside in:  Nevada\n",
      "Please enter your age group ('Under 15 years', '20-24 years', '25-29 years', '30-34 years', '35-39 years', '40-44 years', '45-49 years', '50 years and over'):  20-24 years\n",
      "Please enter your BMI category ('Underweight <18.5', 'Normal 18.5-24.9', 'Overweight 25.0-29.9', 'Obesity I 30.0-34.9', 'Obesity II 35.0-39.9'):  Overweight 25.0-29.9\n",
      "Please enter your race category ('White', 'Black or African American', 'Asian', 'Native Hawaiian or Other Pacific Islander', 'More than one race'):  Black or African American\n",
      "Have you had a previous C-section? (1 for Yes, 0 for No):  0\n",
      "Please enter the total number of births:  0\n"
     ]
    },
    {
     "name": "stdout",
     "output_type": "stream",
     "text": [
      "\n",
      "Prediction Results:\n",
      "Random Forest Model Prediction:\n",
      "  - Any Complication: High Risk (Probability: 0.55)\n",
      "\n",
      "Thank you for using the Pregnancy Complication Risk Prediction Chatbot!\n"
     ]
    },
    {
     "name": "stderr",
     "output_type": "stream",
     "text": [
      "/opt/conda/lib/python3.10/site-packages/sklearn/base.py:493: FutureWarning: The feature names should match those that were passed during fit. Starting version 1.2, an error will be raised.\n",
      "Feature names must be in the same order as they were in fit.\n",
      "\n",
      "  warnings.warn(message, FutureWarning)\n",
      "/opt/conda/lib/python3.10/site-packages/sklearn/base.py:493: FutureWarning: The feature names should match those that were passed during fit. Starting version 1.2, an error will be raised.\n",
      "Feature names must be in the same order as they were in fit.\n",
      "\n",
      "  warnings.warn(message, FutureWarning)\n"
     ]
    }
   ],
   "source": [
    "# Chatbot function\n",
    "def chatbot():\n",
    "    print(\"Welcome to the Pregnancy Complication Risk Prediction Chatbot!\")\n",
    "    print(\"Please answer the following questions:\")\n",
    "    \n",
    "    # Get user input\n",
    "    state = input(\"Please enter the state you reside in: \")\n",
    "    age_cat = input(\"Please enter your age group ('Under 15 years', '20-24 years', '25-29 years', '30-34 years', '35-39 years', '40-44 years', '45-49 years', '50 years and over'): \")\n",
    "    bmi_cat = input(\"Please enter your BMI category ('Underweight <18.5', 'Normal 18.5-24.9', 'Overweight 25.0-29.9', 'Obesity I 30.0-34.9', 'Obesity II 35.0-39.9'): \")\n",
    "    race_cat = input(\"Please enter your race category ('White', 'Black or African American', 'Asian', 'Native Hawaiian or Other Pacific Islander', 'More than one race'): \")\n",
    "    prev_csection = int(input(\"Have you had a previous C-section? (1 for Yes, 0 for No): \"))\n",
    "    total_births_main = int(input(\"Please enter the total number of births: \"))\n",
    "    \n",
    "    # Preprocess the input data\n",
    "    input_data = preprocess_input(state, age_cat, bmi_cat, race_cat, prev_csection, total_births_main)\n",
    "    \n",
    "    # Make predictions using the Random Forest model\n",
    "    rf_prediction = rf_model.predict(input_data)\n",
    "    rf_probability = rf_model.predict_proba(input_data)\n",
    "    \n",
    "    # Output the predictions\n",
    "    print(\"\\nPrediction Results:\")\n",
    "    print(\"Random Forest Model Prediction:\")\n",
    "    print(f\"  - Any Complication: {'High Risk' if rf_prediction[0] == 1 else 'Low Risk'} (Probability: {rf_probability[0][1]:.2f})\")\n",
    "    \n",
    "    \n",
    "    print(\"\\nThank you for using the Pregnancy Complication Risk Prediction Chatbot!\")\n",
    "\n",
    "# Run the chatbot\n",
    "chatbot()"
   ]
  },
  {
   "cell_type": "code",
   "execution_count": null,
   "id": "814bef3e-b4ee-4ff5-b9d2-7e1d5e2774e6",
   "metadata": {},
   "outputs": [],
   "source": []
  }
 ],
 "metadata": {
  "kernelspec": {
   "display_name": "Python 3 (ipykernel)",
   "language": "python",
   "name": "python3"
  },
  "language_info": {
   "codemirror_mode": {
    "name": "ipython",
    "version": 3
   },
   "file_extension": ".py",
   "mimetype": "text/x-python",
   "name": "python",
   "nbconvert_exporter": "python",
   "pygments_lexer": "ipython3",
   "version": "3.10.6"
  }
 },
 "nbformat": 4,
 "nbformat_minor": 5
}
